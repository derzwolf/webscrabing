{
 "cells": [
  {
   "cell_type": "code",
   "execution_count": 82,
   "id": "8ea0f1c1",
   "metadata": {},
   "outputs": [],
   "source": [
    "from selenium import webdriver\n",
    "from selenium.webdriver.common.keys import Keys\n",
    "from selenium.webdriver.support import expected_conditions as EC\n",
    "from selenium.webdriver.common.by import By\n",
    "from selenium.webdriver.support.wait import WebDriverWait"
   ]
  },
  {
   "cell_type": "code",
   "execution_count": 99,
   "id": "cca84cd5",
   "metadata": {},
   "outputs": [
    {
     "name": "stderr",
     "output_type": "stream",
     "text": [
      "/var/folders/_g/ks06ypzd0b77vz99vm0j17940000gn/T/ipykernel_4794/4130667361.py:1: DeprecationWarning: executable_path has been deprecated, please pass in a Service object\n",
      "  driver = webdriver.Chrome('/Users/wolf/Downloads/chromedriver_mac_arm64/chromdriver.exe')\n"
     ]
    }
   ],
   "source": [
    "driver = webdriver.Chrome('/Users/wolf/Downloads/chromedriver_mac_arm64/chromdriver.exe')\n",
    "#driver.get(\"http://www.instagram.com\")"
   ]
  },
  {
   "cell_type": "code",
   "execution_count": 137,
   "id": "f8420e67",
   "metadata": {},
   "outputs": [],
   "source": [
    "try:\n",
    "    driver = webdriver.Chrome()\n",
    "except:\n",
    "    driver = webdriver.Chrome(ChromeDriverManager().install())"
   ]
  },
  {
   "cell_type": "code",
   "execution_count": 114,
   "id": "4e28a346",
   "metadata": {},
   "outputs": [],
   "source": [
    "#driver.get('https://pythonprogramming.net/parsememcparseface/')\n",
    "#driver.find_element(by='class name', value='jstest').text"
   ]
  },
  {
   "cell_type": "code",
   "execution_count": 115,
   "id": "981ca7b1",
   "metadata": {},
   "outputs": [],
   "source": [
    "#driver.find_element(by='id', value='yesnojs').text"
   ]
  },
  {
   "cell_type": "code",
   "execution_count": 138,
   "id": "ee634e00",
   "metadata": {},
   "outputs": [],
   "source": [
    "driver.get('https://en.wikipedia.org/wiki/2018_FIFA_World_Cup')"
   ]
  },
  {
   "cell_type": "code",
   "execution_count": 117,
   "id": "b3cd8171",
   "metadata": {},
   "outputs": [
    {
     "data": {
      "text/plain": [
       "<selenium.webdriver.chrome.webdriver.WebDriver (session=\"0a4bbf1729e33cda39f93c21cd42949d\")>"
      ]
     },
     "execution_count": 117,
     "metadata": {},
     "output_type": "execute_result"
    }
   ],
   "source": [
    "driver"
   ]
  },
  {
   "cell_type": "code",
   "execution_count": 87,
   "id": "82b88a48",
   "metadata": {},
   "outputs": [],
   "source": [
    "#webelement = driver.find_element(by='id', value='siteSub').text\n",
    "#webelement"
   ]
  },
  {
   "cell_type": "code",
   "execution_count": 94,
   "id": "e0ff61c4",
   "metadata": {},
   "outputs": [],
   "source": [
    "webelement = driver.find_element(by='class name', value='mw-logo').click()\n",
    "webelement"
   ]
  },
  {
   "cell_type": "code",
   "execution_count": 136,
   "id": "b8ce4615",
   "metadata": {},
   "outputs": [],
   "source": [
    "driver.close()"
   ]
  },
  {
   "cell_type": "code",
   "execution_count": 118,
   "id": "b7885016",
   "metadata": {},
   "outputs": [],
   "source": [
    "driver.get('https://en.wikipedia.org/wiki/2018_FIFA_World_Cup')"
   ]
  },
  {
   "cell_type": "code",
   "execution_count": 119,
   "id": "87e6875d",
   "metadata": {},
   "outputs": [
    {
     "data": {
      "text/plain": [
       "'2018 FIFA World Cup'"
      ]
     },
     "execution_count": 119,
     "metadata": {},
     "output_type": "execute_result"
    }
   ],
   "source": [
    "webelement = driver.find_element(by='id', value='firstHeading').text\n",
    "webelement"
   ]
  },
  {
   "cell_type": "code",
   "execution_count": 120,
   "id": "c5d741d6",
   "metadata": {},
   "outputs": [],
   "source": [
    "list_france = driver.find_elements(by='xpath', value=\"//*[contains(text(), 'France')]\")"
   ]
  },
  {
   "cell_type": "code",
   "execution_count": 121,
   "id": "9d0b7722",
   "metadata": {},
   "outputs": [
    {
     "name": "stdout",
     "output_type": "stream",
     "text": [
      "\"Match report – Group C – France v Australia\"\n",
      "\n",
      "\"Match report – Group C – France v Peru\"\n",
      "\n",
      "\"Match report – Group C – Denmark v France\"\n",
      "\n",
      "\"Match report – Round of 16 – France v Argentina\"\n",
      "\n",
      "\"Match report – Quarter-final – Uruguay v France\"\n",
      "\n",
      "\"Match report – Semi-final – France v Belgium\"\n",
      "\n"
     ]
    }
   ],
   "source": [
    "for l in list_france:\n",
    "    l = l.text\n",
    "    if \"Match\" in l:\n",
    "        print(l + '\\n')"
   ]
  },
  {
   "cell_type": "code",
   "execution_count": 139,
   "id": "cbbc2d4b",
   "metadata": {},
   "outputs": [],
   "source": [
    "we = driver.find_element(by='name', value='search')\n",
    "we.send_keys(\"euro 2016\")"
   ]
  },
  {
   "cell_type": "code",
   "execution_count": 140,
   "id": "cad8da4e",
   "metadata": {},
   "outputs": [],
   "source": [
    "we.send_keys(Keys.ENTER)"
   ]
  },
  {
   "cell_type": "code",
   "execution_count": null,
   "id": "f3a666ff",
   "metadata": {},
   "outputs": [],
   "source": []
  },
  {
   "cell_type": "code",
   "execution_count": null,
   "id": "a085bf45",
   "metadata": {},
   "outputs": [],
   "source": [
    "#### last and a new lesson"
   ]
  },
  {
   "cell_type": "code",
   "execution_count": 146,
   "id": "6ce74333",
   "metadata": {},
   "outputs": [],
   "source": [
    "from time import sleep\n",
    "from selenium import webdriver\n",
    "from webdriver_manager.chrome import ChromeDriverManager\n",
    "from selenium.webdriver.common.keys import Keys\n",
    "import pandas as pd\n",
    "import re\n",
    "import numpy as np\n"
   ]
  },
  {
   "cell_type": "code",
   "execution_count": 148,
   "id": "832eab15",
   "metadata": {},
   "outputs": [
    {
     "data": {
      "text/html": [
       "<div>\n",
       "<style scoped>\n",
       "    .dataframe tbody tr th:only-of-type {\n",
       "        vertical-align: middle;\n",
       "    }\n",
       "\n",
       "    .dataframe tbody tr th {\n",
       "        vertical-align: top;\n",
       "    }\n",
       "\n",
       "    .dataframe thead th {\n",
       "        text-align: right;\n",
       "    }\n",
       "</style>\n",
       "<table border=\"1\" class=\"dataframe\">\n",
       "  <thead>\n",
       "    <tr style=\"text-align: right;\">\n",
       "      <th></th>\n",
       "      <th>dep_name</th>\n",
       "      <th>region_name</th>\n",
       "    </tr>\n",
       "  </thead>\n",
       "  <tbody>\n",
       "    <tr>\n",
       "      <th>0</th>\n",
       "      <td>Ain</td>\n",
       "      <td>Auvergne-Rhône-Alpes</td>\n",
       "    </tr>\n",
       "    <tr>\n",
       "      <th>1</th>\n",
       "      <td>Aisne</td>\n",
       "      <td>Hauts-de-France</td>\n",
       "    </tr>\n",
       "    <tr>\n",
       "      <th>2</th>\n",
       "      <td>Allier</td>\n",
       "      <td>Auvergne-Rhône-Alpes</td>\n",
       "    </tr>\n",
       "    <tr>\n",
       "      <th>3</th>\n",
       "      <td>Alpes-de-Haute-Provence</td>\n",
       "      <td>Provence-Alpes-Côte d'Azur</td>\n",
       "    </tr>\n",
       "    <tr>\n",
       "      <th>4</th>\n",
       "      <td>Hautes-Alpes</td>\n",
       "      <td>Provence-Alpes-Côte d'Azur</td>\n",
       "    </tr>\n",
       "  </tbody>\n",
       "</table>\n",
       "</div>"
      ],
      "text/plain": [
       "                  dep_name                 region_name\n",
       "0                      Ain        Auvergne-Rhône-Alpes\n",
       "1                    Aisne             Hauts-de-France\n",
       "2                   Allier        Auvergne-Rhône-Alpes\n",
       "3  Alpes-de-Haute-Provence  Provence-Alpes-Côte d'Azur\n",
       "4             Hautes-Alpes  Provence-Alpes-Côte d'Azur"
      ]
     },
     "execution_count": 148,
     "metadata": {},
     "output_type": "execute_result"
    }
   ],
   "source": [
    "df = pd.read_csv(\"new_departements-region.csv\", index_col = 0)\n",
    "df.head()"
   ]
  },
  {
   "cell_type": "code",
   "execution_count": 170,
   "id": "9d77f3de",
   "metadata": {},
   "outputs": [],
   "source": [
    "try:\n",
    "    driver = webdriver.Chrome()\n",
    "except:\n",
    "    driver = webdriver.Chrome(ChromeDriverManager().install())"
   ]
  },
  {
   "cell_type": "code",
   "execution_count": 171,
   "id": "5171a7ce",
   "metadata": {},
   "outputs": [],
   "source": [
    "driver.maximize_window()"
   ]
  },
  {
   "cell_type": "code",
   "execution_count": null,
   "id": "eb7c0ae3",
   "metadata": {},
   "outputs": [],
   "source": [
    "driver.forward()\n",
    "driver.back()\n",
    "driver.close()\n",
    "driver.refresh()"
   ]
  },
  {
   "cell_type": "code",
   "execution_count": 172,
   "id": "db2113e7",
   "metadata": {},
   "outputs": [],
   "source": [
    "driver.get('https://www.google.com/?&hl=en')"
   ]
  },
  {
   "cell_type": "code",
   "execution_count": 173,
   "id": "9e1451fe",
   "metadata": {},
   "outputs": [],
   "source": [
    "we = driver.find_element(by = 'id', value = 'W0wltc')\n",
    "driver.execute_script(\"arguments[0].click();\", we)"
   ]
  },
  {
   "cell_type": "code",
   "execution_count": 174,
   "id": "de5e7272",
   "metadata": {},
   "outputs": [],
   "source": [
    "# Identification of the element thanks to its name\n",
    "webelement = driver.find_element(by='name', value='q')\n",
    "\n",
    "# Writing \"Ain department\" in the search bar¶\n",
    "webelement.send_keys('Ain department')\n",
    "\n",
    "# Launching the search\n",
    "webelement.send_keys(Keys.ENTER)"
   ]
  },
  {
   "cell_type": "code",
   "execution_count": 175,
   "id": "2fac0e4f",
   "metadata": {},
   "outputs": [],
   "source": [
    "# Identification of the element thanks to its hyperlink\n",
    "wiki = driver.find_element(by='partial link text', value='Wikipedia')\n",
    "\n",
    "# Opening the Wikipedia page in a new tab\n",
    "webdriver.ActionChains(driver).key_down(Keys.CONTROL).click(wiki).key_up(Keys.CONTROL).perform()\n"
   ]
  },
  {
   "cell_type": "code",
   "execution_count": 177,
   "id": "f4a3c170",
   "metadata": {},
   "outputs": [],
   "source": [
    "tab = driver.window_handles\n",
    "\n",
    "search_page = tab[0]\n",
    "wiki_page = tab[0]\n",
    "\n",
    "# Access to the Wikipedia tab\n",
    "driver.switch_to.window(wiki_page)\n"
   ]
  },
  {
   "cell_type": "code",
   "execution_count": null,
   "id": "7253a978",
   "metadata": {},
   "outputs": [],
   "source": []
  }
 ],
 "metadata": {
  "kernelspec": {
   "display_name": "Python 3 (ipykernel)",
   "language": "python",
   "name": "python3"
  },
  "language_info": {
   "codemirror_mode": {
    "name": "ipython",
    "version": 3
   },
   "file_extension": ".py",
   "mimetype": "text/x-python",
   "name": "python",
   "nbconvert_exporter": "python",
   "pygments_lexer": "ipython3",
   "version": "3.9.13"
  }
 },
 "nbformat": 4,
 "nbformat_minor": 5
}
